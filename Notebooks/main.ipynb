{
 "cells": [
  {
   "cell_type": "code",
   "execution_count": 3,
   "metadata": {},
   "outputs": [],
   "source": [
    "# import required packages\n",
    "import arcpy\n",
    "from arcpy import env\n",
    "from arcpy.sa import *\n",
    "import csv\n",
    "import pandas as pd\n",
    "import os"
   ]
  },
  {
   "cell_type": "code",
   "execution_count": 4,
   "metadata": {},
   "outputs": [],
   "source": [
    "# set workspace - replace this with your project workspace/geodatabase (view HowToFindFilePaths.md on github if confused!)\n",
    "arcpy.env.workspace = r\"C:\\Users\\andre\\Dropbox\\PC (2)\\Documents\\ArcGIS\\Projects\\OptimalVisibilityTool\""
   ]
  },
  {
   "cell_type": "code",
   "execution_count": 5,
   "metadata": {},
   "outputs": [
    {
     "data": {
      "text/plain": [
       "'C:\\\\Users\\\\andre\\\\Dropbox\\\\PC (2)\\\\Documents\\\\ArcGIS\\\\Projects\\\\OptimalVisibilityTool'"
      ]
     },
     "execution_count": 5,
     "metadata": {},
     "output_type": "execute_result"
    }
   ],
   "source": [
    "# view your current working directory\n",
    "os.getcwd()"
   ]
  },
  {
   "cell_type": "code",
   "execution_count": 6,
   "metadata": {},
   "outputs": [],
   "source": [
    "# change your working directory to your ArcGIS project folder\n",
    "os.chdir(r\"C:\\Users\\andre\\Dropbox\\PC (2)\\Documents\\ArcGIS\\Projects\\OptimalVisibilityTool\")"
   ]
  },
  {
   "cell_type": "code",
   "execution_count": 7,
   "metadata": {},
   "outputs": [
    {
     "name": "stdout",
     "output_type": "stream",
     "text": [
      "C:\\Users\\andre\\Dropbox\\PC (2)\\Documents\\ArcGIS\\Projects\\OptimalVisibilityTool\n"
     ]
    }
   ],
   "source": [
    "# view your current working directory to see the new location\n",
    "cwd = os.getcwd()\n",
    "print(cwd)"
   ]
  },
  {
   "cell_type": "code",
   "execution_count": 8,
   "metadata": {},
   "outputs": [
    {
     "name": "stdout",
     "output_type": "stream",
     "text": [
      "C:\\Users\\andre\\Dropbox\\PC (2)\\Documents\\ArcGIS\\Projects\\OptimalVisibilityTool\\Rasters\n"
     ]
    }
   ],
   "source": [
    "# set location for raster files - replace this with any folder on your computer that can store your raster files.\n",
    "# If you aren't sure, put it on your desktop.\n",
    "rasterFolder = r\"C:\\Users\\andre\\Dropbox\\PC (2)\\Documents\\ArcGIS\\Projects\\OptimalVisibilityTool\\Rasters\"\n",
    "print(rasterFolder)"
   ]
  },
  {
   "cell_type": "code",
   "execution_count": 7,
   "metadata": {},
   "outputs": [],
   "source": [
    "# set input raster DEM - replace this with your area's DEM! (view HowToFindYourDEM.md on github)\n",
    "inputRaster = r\"C:\\Users\\andre\\Dropbox\\PC (2)\\Documents\\ArcGIS\\Projects\\OptimalVisibilityTool\\Rasters\\SRER.tif\""
   ]
  },
  {
   "cell_type": "code",
   "execution_count": 8,
   "metadata": {},
   "outputs": [],
   "source": [
    "# boundary polygon for the extent of our area - replace this with a shapefile of your area's boundaries!\n",
    "# Look up US Parcel boundaries and download a shapefile of your area if you aren't sure\n",
    "boundaryShapefile = r\"C:\\Users\\andre\\Dropbox\\PC (2)\\Documents\\ArcGIS\\Projects\\OptimalVisibilityTool\\Shapefiles\\srerboundary\\bounds.shp\""
   ]
  },
  {
   "cell_type": "code",
   "execution_count": 9,
   "metadata": {},
   "outputs": [],
   "source": [
    "# allows arcpy to overwrite previous outputs\n",
    "arcpy.env.overwriteOutput = True"
   ]
  },
  {
   "cell_type": "code",
   "execution_count": 16,
   "metadata": {},
   "outputs": [],
   "source": [
    "# crop raster to boundary to create cropped raster\n",
    "croppedRaster = ExtractByMask(inputRaster, boundaryShapefile)\n",
    "# TODO the raster values are missing from the tif file\n",
    "croppedRaster.save(\"Rasters/croppedRaster.tif\")"
   ]
  },
  {
   "cell_type": "code",
   "execution_count": 41,
   "metadata": {},
   "outputs": [],
   "source": [
    "# find local peaks within cropped raster.\n",
    "# Default is 15 points, but set higher for more accuracy, and lower for faster processing time.\n",
    "optimalPoints = arcpy.defense.FindLocalPeaksValleys(croppedRaster, \"optimalVisibilityPoints\", \"PEAKS\", 1)"
   ]
  },
  {
   "cell_type": "code",
   "execution_count": 42,
   "metadata": {},
   "outputs": [
    {
     "name": "stdout",
     "output_type": "stream",
     "text": [
      "C:\\Users\\andre\\Dropbox\\PC (2)\\Documents\\ArcGIS\\Projects\\OptimalVisibilityTool\\Rasters\\visibility_output_1\n"
     ]
    }
   ],
   "source": [
    "# Set the path for the new folder to hold visibility outputs relative to the current workspace.\n",
    "# You can change the folder_name\n",
    "folder_name = \"visibility_output_1\"\n",
    "folder_path = os.path.join(rasterFolder, folder_name)\n",
    "print(folder_path)"
   ]
  },
  {
   "cell_type": "code",
   "execution_count": 43,
   "metadata": {},
   "outputs": [],
   "source": [
    "# Create the new folder if it doesn't already exist\n",
    "if not os.path.isdir(folder_path):\n",
    "    try:\n",
    "        os.mkdir(folder_path)\n",
    "    except OSError as error:\n",
    "        print(error)"
   ]
  },
  {
   "cell_type": "code",
   "execution_count": 44,
   "metadata": {},
   "outputs": [],
   "source": [
    "# select the name of the first field for the optimalVisibilityPoints\n",
    "field = 'FID'"
   ]
  },
  {
   "cell_type": "code",
   "execution_count": 45,
   "metadata": {},
   "outputs": [
    {
     "name": "stdout",
     "output_type": "stream",
     "text": [
      "[0]\n"
     ]
    }
   ],
   "source": [
    "# list all object IDs from field = 'FID'\n",
    "all_object_ids = [row[0] for row in arcpy.da.SearchCursor(optimalPoints, field)]\n",
    "print(all_object_ids)"
   ]
  },
  {
   "cell_type": "code",
   "execution_count": 46,
   "metadata": {},
   "outputs": [
    {
     "name": "stdout",
     "output_type": "stream",
     "text": [
      "FID\n"
     ]
    }
   ],
   "source": [
    "# Find the object ID fieldname\n",
    "objectidfield = arcpy.Describe(feature_class).OIDFieldName\n",
    "print(objectidfield)"
   ]
  },
  {
   "cell_type": "code",
   "execution_count": 47,
   "metadata": {},
   "outputs": [],
   "source": [
    "# looping through the points\n",
    "for pointid in all_object_ids:  # For each object id in the object id list\n",
    "    \n",
    "    # create a where clause to select only the point with this object ID\n",
    "    sql = \"{0}={1}\".format(\n",
    "        arcpy.AddFieldDelimiters(\n",
    "            datasource=optimalPoints, \n",
    "            field=objectidfield), \n",
    "        pointid)\n",
    "    \n",
    "    # create a layer with only this point in it\n",
    "    arcpy.MakeFeatureLayer_management(\n",
    "        in_features=optimalPoints, \n",
    "        out_layer='tempLayer', \n",
    "        where_clause=sql)\n",
    "    \n",
    "    # run visibility analysis, with in_raster and templayer as observer\n",
    "    # observer height is 6 (meters), but you can change the observer_offset value!\n",
    "    outvis = arcpy.sa.Visibility(croppedRaster, \n",
    "                                 'tempLayer', \n",
    "                                 analysis_type=\"OBSERVERS\", \n",
    "                                 nonvisible_cell_value=\"NODATA\", \n",
    "                                 observer_offset=6)\n",
    "    \n",
    "    # name the objects using object ID\n",
    "    # I named them visibility_analysis_1.tif, visibility_analysis_2.tif etc...\n",
    "    output_raster_name = os.path.join(folder_path,\n",
    "                                      \"visiblity_analysis_{0}.tif\".format(pointid))\n",
    "    # save output raster with name called in above\n",
    "    outvis.save(output_raster_name)"
   ]
  },
  {
   "cell_type": "code",
   "execution_count": 30,
   "metadata": {},
   "outputs": [
    {
     "name": "stdout",
     "output_type": "stream",
     "text": [
      "['visiblity_analysis_0.tif', 'visiblity_analysis_1.tif', 'visiblity_analysis_2.tif', 'visiblity_analysis_3.tif', 'visiblity_analysis_4.tif', 'visiblity_analysis_5.tif', 'visiblity_analysis_6.tif', 'visiblity_analysis_7.tif', 'visiblity_analysis_8.tif', 'visiblity_analysis_9.tif']\n"
     ]
    }
   ],
   "source": [
    "# Use the ListRasters function to create a list of rasters in the folder\n",
    "rasters = arcpy.ListRasters()\n",
    "print(rasters)"
   ]
  },
  {
   "cell_type": "code",
   "execution_count": 31,
   "metadata": {},
   "outputs": [],
   "source": [
    "# intialize variables to keep track of the maximum count value and the name of the raster with the maximum count value\n",
    "max_count = -1\n",
    "max_count_raster = \"\""
   ]
  },
  {
   "cell_type": "code",
   "execution_count": 34,
   "metadata": {},
   "outputs": [],
   "source": [
    "# Iterate through the list of rasters\n",
    "for raster in rasters:\n",
    "    # Create a unique filename for the output dataframe\n",
    "    output_filename = f\"{raster}_table.csv\"\n",
    "\n",
    "    # Get the raster attribute table as a table view\n",
    "    table_view_name = f\"{raster}_view\"\n",
    "    table_view = arcpy.MakeTableView_management(raster, table_view_name)\n",
    "\n",
    "    # Get the Count value from each raster table using a SearchCursor\n",
    "    count_field = \"Count\"\n",
    "    with arcpy.da.SearchCursor(table_view, count_field) as cursor:\n",
    "        count_values = [row[0] for row in cursor]\n",
    "\n",
    "    # Find the maximum count value\n",
    "    count_max = max(count_values)\n",
    "\n",
    "    # Check if the Count value is greater than the current maximum count value\n",
    "    if count_max > max_count:\n",
    "        # If so, update the maximum count value and the name of the raster with the maximum count value\n",
    "        max_count = count_max\n",
    "        max_count_raster = raster\n",
    "\n",
    "    # Convert the table view to a Pandas dataframe\n",
    "    # dataframe = pd.DataFrame.from_records(arcpy.da.TableToNumPyArray(table_view, count_field))\n",
    "\n",
    "    # Save the dataframe to a file\n",
    "    # dataframe.to_csv(output_filename, index=False)\n",
    "\n",
    "    # Print a message indicating the dataframe has been saved\n",
    "    # print(f\"{output_filename} saved successfully.\")"
   ]
  },
  {
   "cell_type": "code",
   "execution_count": 33,
   "metadata": {},
   "outputs": [
    {
     "name": "stdout",
     "output_type": "stream",
     "text": [
      "Raster with the highest visibility is visiblity_analysis_0.tif with a count of 2117230.0\n"
     ]
    }
   ],
   "source": [
    "# Print the name of the raster with the maximum count value\n",
    "# The count value represents the number of raster cells that the point has visibility of\n",
    "print(f\"Raster with the highest visibility is {max_count_raster} with a count of {max_count}\")\n",
    "# You can find this raster in your specified output folder.\n",
    "# The raster number corresponds with the point number within the \"pointsSelection\" feature class\n",
    "# View the 'HowToInterpretResults.md' in the tutorials folder on github for more information"
   ]
  },
  {
   "cell_type": "code",
   "execution_count": null,
   "metadata": {},
   "outputs": [],
   "source": []
  }
 ],
 "metadata": {
  "kernelspec": {
   "display_name": "ArcGISPro",
   "language": "Python",
   "name": "python3"
  },
  "language_info": {
   "file_extension": ".py",
   "name": "python",
   "version": "3"
  }
 },
 "nbformat": 4,
 "nbformat_minor": 2
}
